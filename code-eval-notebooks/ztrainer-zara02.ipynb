{
 "cells": [
  {
   "cell_type": "code",
   "execution_count": 1,
   "metadata": {},
   "outputs": [
    {
     "name": "stdout",
     "output_type": "stream",
     "text": [
      "Using torch 2.0.1\n",
      "Is the GPU available? False\n",
      "Device cpu\n",
      "===== START -->> Data and Time: 23-03-24, 03:15:40 ( Darwin - posix ) =====\n",
      "----- printing args -----\n",
      "{   'batch_size': 64,\n",
      "    'c1h': False,\n",
      "    'code_eval': True,\n",
      "    'd_learning_rate': 0.001,\n",
      "    'dataset': 'zara02',\n",
      "    'dataset_parser': 'socialWays',\n",
      "    'dataset_type': 'socialWays',\n",
      "    'epochs': 1200,\n",
      "    'g_learning_rate': 0.0001,\n",
      "    'graph': True,\n",
      "    'hidden_size': 64,\n",
      "    'info_loss_weight': 0.9,\n",
      "    'l1o': False,\n",
      "    'lambda_cont_code': 0.1,\n",
      "    'lambda_disc_code': 0.1,\n",
      "    'latent_dim': 10,\n",
      "    'lstm_decoder': False,\n",
      "    'model': 'socialWays',\n",
      "    'model_name_append': 'full-06-12',\n",
      "    'n_cont_code': 2,\n",
      "    'n_disc_code': 2,\n",
      "    'n_graph_attention_heads': 4,\n",
      "    'n_lstm_layers': 1,\n",
      "    'n_social_features': 3,\n",
      "    'new_criterion': True,\n",
      "    'nll': False,\n",
      "    'scale_data': True,\n",
      "    'seed': 1234,\n",
      "    'social_attention': True,\n",
      "    'unrolling_steps': 1}\n",
      "--x-- printing args --x--\n",
      "Model File For Training:  ./TRAJ/trained_models/socialWays/zara02_sg_22_34_1200-bce-0.9_full-06-12_nec.pt\n",
      "Loading model from ./TRAJ/trained_models/socialWays/zara02_sg_22_34_1200-bce-0.9_full-06-12_nec.pt\n",
      "model trained on: 07-12-23, 14:38:38\n",
      "/Users/z.ahmed/workspace/DSProjects/trajectory-prediction\n",
      "./TRAJ/processed/socialWays/zara02-8-12.npz  # Training samples:  4430\n",
      "./TRAJ/processed/socialWays/zara02-8-12.npz  # Test samples:  1311\n",
      "Batched Test Dataset Creation time: 0 hour: 0 min: 2 sec\n",
      "Total Data Processing Time: 0 hour: 0 min: 2 sec\n",
      "Performing Code Evaluation on data...\n",
      "Categ-1 (angle) = ( -0.53369849530522 | -0.07458707554737995 | 0.022296215395527733 ) | Categ-2 (dir) =  73.56195698373773 | 91.34135181314558 | 100.83941026445085\n",
      "cont-1 (speed) = ( 0.005546045434838465 | 0.01665996080903922 | 0.03346812957006682 ) | cont-2 (shift) =  3.8635440976705007e-05 | 6.402019198737585e-05 | 0.00011410363406777843\n",
      "Total-Elapsed-Time 0 hour: 1 min: 5 sec\n",
      "Eval Time: 0 hour: 1 min: 3 sec\n",
      "===== END -->> 'Data and Time: 23-03-24, 03:16:41 ( 0:01:00.896793 ) =====\n"
     ]
    }
   ],
   "source": [
    "!cd ../. && python ./trainer_main.py \\\n",
    "--dataset zara02 \\\n",
    "--epochs 1200 \\\n",
    "--batch-size 64 \\\n",
    "--latent-dim 10 \\\n",
    "--d-learning-rate 1E-3 \\\n",
    "--g-learning-rate 1E-4 \\\n",
    "--unrolling-steps 1 \\\n",
    "--hidden-size 64 \\\n",
    "--n-social-features 3 \\\n",
    "--n-graph-attention-heads 4 \\\n",
    "--model socialWays \\\n",
    "--n-lstm-layers 1 \\\n",
    "--scale-data True \\\n",
    "--social-attention True \\\n",
    "--graph True \\\n",
    "--new-criterion True \\\n",
    "--info-loss-weight 0.9 \\\n",
    "--n-disc-code 2 \\\n",
    "--n-cont-code 2 \\\n",
    "--model-name-append full-06-12 \\\n",
    "--code-eval True \\\n",
    "# --seed 1234"
   ]
  }
 ],
 "metadata": {
  "kernelspec": {
   "display_name": ".venv",
   "language": "python",
   "name": "python3"
  },
  "language_info": {
   "codemirror_mode": {
    "name": "ipython",
    "version": 3
   },
   "file_extension": ".py",
   "mimetype": "text/x-python",
   "name": "python",
   "nbconvert_exporter": "python",
   "pygments_lexer": "ipython3",
   "version": "3.11.3"
  }
 },
 "nbformat": 4,
 "nbformat_minor": 2
}
